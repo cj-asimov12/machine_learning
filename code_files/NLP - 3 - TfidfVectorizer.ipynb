{
 "cells": [
  {
   "cell_type": "markdown",
   "id": "3d694c22",
   "metadata": {},
   "source": [
    "## NLP - 3 - TfidfVectorizer"
   ]
  },
  {
   "cell_type": "code",
   "execution_count": 1,
   "id": "521bdf5a",
   "metadata": {},
   "outputs": [],
   "source": [
    "import pandas as pd\n",
    "from sklearn.feature_extraction.text import TfidfVectorizer\n",
    "import numpy as np"
   ]
  },
  {
   "cell_type": "code",
   "execution_count": 2,
   "id": "6358c987",
   "metadata": {},
   "outputs": [],
   "source": [
    "corpus = [\"Joe went to the store\",\n",
    "         \"Joe wants to buy a dining set\",\n",
    "         \"Joe met John at the store\",\n",
    "         \"Joe and John are best friends\",\n",
    "         ]"
   ]
  },
  {
   "cell_type": "code",
   "execution_count": 3,
   "id": "6ae4b1cb",
   "metadata": {},
   "outputs": [],
   "source": [
    "vectorizer = TfidfVectorizer(use_idf=True)\n",
    "\n",
    "vectorizer_vectors = vectorizer.fit_transform(corpus)"
   ]
  },
  {
   "cell_type": "code",
   "execution_count": 4,
   "id": "94256cbf",
   "metadata": {},
   "outputs": [
    {
     "data": {
      "text/plain": [
       "array([[0.        , 0.        , 0.        , 0.        , 0.        ,\n",
       "        0.        , 0.        , 0.29462843, 0.        , 0.        ,\n",
       "        0.        , 0.44513219, 0.44513219, 0.44513219, 0.        ,\n",
       "        0.56459374],\n",
       "       [0.        , 0.        , 0.        , 0.        , 0.45203489,\n",
       "        0.45203489, 0.        , 0.23589056, 0.        , 0.        ,\n",
       "        0.45203489, 0.        , 0.        , 0.3563895 , 0.45203489,\n",
       "        0.        ],\n",
       "       [0.        , 0.        , 0.49164562, 0.        , 0.        ,\n",
       "        0.        , 0.        , 0.25656108, 0.38761905, 0.49164562,\n",
       "        0.        , 0.38761905, 0.38761905, 0.        , 0.        ,\n",
       "        0.        ],\n",
       "       [0.45203489, 0.45203489, 0.        , 0.45203489, 0.        ,\n",
       "        0.        , 0.45203489, 0.23589056, 0.3563895 , 0.        ,\n",
       "        0.        , 0.        , 0.        , 0.        , 0.        ,\n",
       "        0.        ]])"
      ]
     },
     "execution_count": 4,
     "metadata": {},
     "output_type": "execute_result"
    }
   ],
   "source": [
    "vectorizer_vectors.toarray()"
   ]
  },
  {
   "cell_type": "code",
   "execution_count": 5,
   "id": "8339a447",
   "metadata": {},
   "outputs": [
    {
     "data": {
      "text/plain": [
       "array(['and', 'are', 'at', 'best', 'buy', 'dining', 'friends', 'joe',\n",
       "       'john', 'met', 'set', 'store', 'the', 'to', 'wants', 'went'],\n",
       "      dtype=object)"
      ]
     },
     "execution_count": 5,
     "metadata": {},
     "output_type": "execute_result"
    }
   ],
   "source": [
    "feature_names = vectorizer.get_feature_names_out()\n",
    "\n",
    "feature_names"
   ]
  },
  {
   "cell_type": "code",
   "execution_count": 6,
   "id": "6d71d1e3",
   "metadata": {},
   "outputs": [
    {
     "data": {
      "text/html": [
       "<div>\n",
       "<style scoped>\n",
       "    .dataframe tbody tr th:only-of-type {\n",
       "        vertical-align: middle;\n",
       "    }\n",
       "\n",
       "    .dataframe tbody tr th {\n",
       "        vertical-align: top;\n",
       "    }\n",
       "\n",
       "    .dataframe thead th {\n",
       "        text-align: right;\n",
       "    }\n",
       "</style>\n",
       "<table border=\"1\" class=\"dataframe\">\n",
       "  <thead>\n",
       "    <tr style=\"text-align: right;\">\n",
       "      <th></th>\n",
       "      <th>and</th>\n",
       "      <th>are</th>\n",
       "      <th>at</th>\n",
       "      <th>best</th>\n",
       "      <th>buy</th>\n",
       "      <th>dining</th>\n",
       "      <th>friends</th>\n",
       "      <th>joe</th>\n",
       "      <th>john</th>\n",
       "      <th>met</th>\n",
       "      <th>set</th>\n",
       "      <th>store</th>\n",
       "      <th>the</th>\n",
       "      <th>to</th>\n",
       "      <th>wants</th>\n",
       "      <th>went</th>\n",
       "    </tr>\n",
       "  </thead>\n",
       "  <tbody>\n",
       "    <tr>\n",
       "      <th>0</th>\n",
       "      <td>0.000000</td>\n",
       "      <td>0.000000</td>\n",
       "      <td>0.000000</td>\n",
       "      <td>0.000000</td>\n",
       "      <td>0.000000</td>\n",
       "      <td>0.000000</td>\n",
       "      <td>0.000000</td>\n",
       "      <td>0.294628</td>\n",
       "      <td>0.000000</td>\n",
       "      <td>0.000000</td>\n",
       "      <td>0.000000</td>\n",
       "      <td>0.445132</td>\n",
       "      <td>0.445132</td>\n",
       "      <td>0.445132</td>\n",
       "      <td>0.000000</td>\n",
       "      <td>0.564594</td>\n",
       "    </tr>\n",
       "    <tr>\n",
       "      <th>1</th>\n",
       "      <td>0.000000</td>\n",
       "      <td>0.000000</td>\n",
       "      <td>0.000000</td>\n",
       "      <td>0.000000</td>\n",
       "      <td>0.452035</td>\n",
       "      <td>0.452035</td>\n",
       "      <td>0.000000</td>\n",
       "      <td>0.235891</td>\n",
       "      <td>0.000000</td>\n",
       "      <td>0.000000</td>\n",
       "      <td>0.452035</td>\n",
       "      <td>0.000000</td>\n",
       "      <td>0.000000</td>\n",
       "      <td>0.356389</td>\n",
       "      <td>0.452035</td>\n",
       "      <td>0.000000</td>\n",
       "    </tr>\n",
       "    <tr>\n",
       "      <th>2</th>\n",
       "      <td>0.000000</td>\n",
       "      <td>0.000000</td>\n",
       "      <td>0.491646</td>\n",
       "      <td>0.000000</td>\n",
       "      <td>0.000000</td>\n",
       "      <td>0.000000</td>\n",
       "      <td>0.000000</td>\n",
       "      <td>0.256561</td>\n",
       "      <td>0.387619</td>\n",
       "      <td>0.491646</td>\n",
       "      <td>0.000000</td>\n",
       "      <td>0.387619</td>\n",
       "      <td>0.387619</td>\n",
       "      <td>0.000000</td>\n",
       "      <td>0.000000</td>\n",
       "      <td>0.000000</td>\n",
       "    </tr>\n",
       "    <tr>\n",
       "      <th>3</th>\n",
       "      <td>0.452035</td>\n",
       "      <td>0.452035</td>\n",
       "      <td>0.000000</td>\n",
       "      <td>0.452035</td>\n",
       "      <td>0.000000</td>\n",
       "      <td>0.000000</td>\n",
       "      <td>0.452035</td>\n",
       "      <td>0.235891</td>\n",
       "      <td>0.356389</td>\n",
       "      <td>0.000000</td>\n",
       "      <td>0.000000</td>\n",
       "      <td>0.000000</td>\n",
       "      <td>0.000000</td>\n",
       "      <td>0.000000</td>\n",
       "      <td>0.000000</td>\n",
       "      <td>0.000000</td>\n",
       "    </tr>\n",
       "  </tbody>\n",
       "</table>\n",
       "</div>"
      ],
      "text/plain": [
       "        and       are        at      best       buy    dining   friends  \\\n",
       "0  0.000000  0.000000  0.000000  0.000000  0.000000  0.000000  0.000000   \n",
       "1  0.000000  0.000000  0.000000  0.000000  0.452035  0.452035  0.000000   \n",
       "2  0.000000  0.000000  0.491646  0.000000  0.000000  0.000000  0.000000   \n",
       "3  0.452035  0.452035  0.000000  0.452035  0.000000  0.000000  0.452035   \n",
       "\n",
       "        joe      john       met       set     store       the        to  \\\n",
       "0  0.294628  0.000000  0.000000  0.000000  0.445132  0.445132  0.445132   \n",
       "1  0.235891  0.000000  0.000000  0.452035  0.000000  0.000000  0.356389   \n",
       "2  0.256561  0.387619  0.491646  0.000000  0.387619  0.387619  0.000000   \n",
       "3  0.235891  0.356389  0.000000  0.000000  0.000000  0.000000  0.000000   \n",
       "\n",
       "      wants      went  \n",
       "0  0.000000  0.564594  \n",
       "1  0.452035  0.000000  \n",
       "2  0.000000  0.000000  \n",
       "3  0.000000  0.000000  "
      ]
     },
     "execution_count": 6,
     "metadata": {},
     "output_type": "execute_result"
    }
   ],
   "source": [
    "df = pd.DataFrame(vectorizer_vectors.toarray(), columns = feature_names)\n",
    "\n",
    "df"
   ]
  }
 ],
 "metadata": {
  "kernelspec": {
   "display_name": "Python 3 (ipykernel)",
   "language": "python",
   "name": "python3"
  },
  "language_info": {
   "codemirror_mode": {
    "name": "ipython",
    "version": 3
   },
   "file_extension": ".py",
   "mimetype": "text/x-python",
   "name": "python",
   "nbconvert_exporter": "python",
   "pygments_lexer": "ipython3",
   "version": "3.8.8"
  }
 },
 "nbformat": 4,
 "nbformat_minor": 5
}
