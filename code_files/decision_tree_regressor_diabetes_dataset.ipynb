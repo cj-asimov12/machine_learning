{
 "cells": [
  {
   "cell_type": "code",
   "execution_count": null,
   "id": "79aed2ef",
   "metadata": {},
   "outputs": [],
   "source": [
    "\"\"\"\n",
    "1. Build a decision tree regressor:\n",
    "- Import diabetes datasets\n",
    "- Split it into X and Y\n",
    "- Split X and Y into 70% training set and 30% testing set\n",
    "- Train a Decision Tree Regressor\n",
    "- Make Predictions\n",
    "- Calculate its accuracy \n",
    "\"\"\""
   ]
  },
  {
   "cell_type": "code",
   "execution_count": 89,
   "id": "263c87cd",
   "metadata": {},
   "outputs": [],
   "source": [
    "from sklearn.datasets import load_diabetes\n",
    "from sklearn import metrics\n",
    "from sklearn.tree import DecisionTreeRegressor\n",
    "from sklearn.model_selection import train_test_split\n",
    "from sklearn.model_selection import cross_val_score\n",
    "from sklearn.ensemble import RandomForestRegressor"
   ]
  },
  {
   "cell_type": "code",
   "execution_count": 77,
   "id": "8f44173c",
   "metadata": {},
   "outputs": [],
   "source": [
    "diabetes = load_diabetes()"
   ]
  },
  {
   "cell_type": "code",
   "execution_count": 78,
   "id": "0436f9b1",
   "metadata": {},
   "outputs": [
    {
     "data": {
      "text/plain": [
       "(442, 10)"
      ]
     },
     "execution_count": 78,
     "metadata": {},
     "output_type": "execute_result"
    }
   ],
   "source": [
    "diabetes.data.shape"
   ]
  },
  {
   "cell_type": "code",
   "execution_count": 79,
   "id": "65a186a9",
   "metadata": {},
   "outputs": [
    {
     "data": {
      "text/plain": [
       "(442, 10)"
      ]
     },
     "execution_count": 79,
     "metadata": {},
     "output_type": "execute_result"
    }
   ],
   "source": [
    "X = diabetes.data\n",
    "X.shape"
   ]
  },
  {
   "cell_type": "code",
   "execution_count": 81,
   "id": "6d7c8d70",
   "metadata": {},
   "outputs": [
    {
     "data": {
      "text/plain": [
       "(442,)"
      ]
     },
     "execution_count": 81,
     "metadata": {},
     "output_type": "execute_result"
    }
   ],
   "source": [
    "y = diabetes.target\n",
    "y.shape"
   ]
  },
  {
   "cell_type": "code",
   "execution_count": 82,
   "id": "f086b3d0",
   "metadata": {},
   "outputs": [],
   "source": [
    "X_train, X_test, y_train, y_test = train_test_split(X, y, train_size =.7, random_state=40)"
   ]
  },
  {
   "cell_type": "code",
   "execution_count": 9,
   "id": "a5823649",
   "metadata": {},
   "outputs": [],
   "source": [
    "# Decision Tree"
   ]
  },
  {
   "cell_type": "code",
   "execution_count": 91,
   "id": "a505fbf8",
   "metadata": {},
   "outputs": [],
   "source": [
    "treereg = DecisionTreeRegressor(random_state=0)"
   ]
  },
  {
   "cell_type": "code",
   "execution_count": 92,
   "id": "6299642a",
   "metadata": {},
   "outputs": [
    {
     "data": {
      "text/plain": [
       "DecisionTreeRegressor(random_state=0)"
      ]
     },
     "execution_count": 92,
     "metadata": {},
     "output_type": "execute_result"
    }
   ],
   "source": [
    "treereg.fit(X_train, y_train)"
   ]
  },
  {
   "cell_type": "code",
   "execution_count": 93,
   "id": "62ca971f",
   "metadata": {},
   "outputs": [],
   "source": [
    "y_pred = treereg.predict(X_test)"
   ]
  },
  {
   "cell_type": "code",
   "execution_count": 94,
   "id": "c399f19e",
   "metadata": {
    "scrolled": true
   },
   "outputs": [
    {
     "data": {
      "text/plain": [
       "array([-0.39292219, -0.46749346,  0.02768473,  0.06441362, -0.50323135,\n",
       "        0.16437202,  0.11242982, -0.73798979, -0.30953155, -0.00137327])"
      ]
     },
     "execution_count": 94,
     "metadata": {},
     "output_type": "execute_result"
    }
   ],
   "source": [
    "cross_val_score(treereg, X, y, cv=10)"
   ]
  },
  {
   "cell_type": "code",
   "execution_count": 95,
   "id": "0474cdc4",
   "metadata": {},
   "outputs": [
    {
     "name": "stdout",
     "output_type": "stream",
     "text": [
      "model score: -0.080\n"
     ]
    }
   ],
   "source": [
    "print(\"model score: %.3f\" % treereg.score(X_test, y_test))"
   ]
  },
  {
   "cell_type": "code",
   "execution_count": null,
   "id": "2301faf6",
   "metadata": {},
   "outputs": [],
   "source": [
    "\"\"\"\n",
    "2. Build a random forest regressor:\n",
    " - Import diabetes datasets\n",
    "- Split it into X and Y\n",
    "- Split X and Y into 70% training set and 30% testing set\n",
    "- Train a Random Forest Regressor\n",
    "- Make Predictions\n",
    "- Calculate its accuracy\n",
    "\"\"\""
   ]
  },
  {
   "cell_type": "code",
   "execution_count": 14,
   "id": "3184fd20",
   "metadata": {},
   "outputs": [],
   "source": [
    "# Random Forest "
   ]
  },
  {
   "cell_type": "code",
   "execution_count": 133,
   "id": "db8c8584",
   "metadata": {},
   "outputs": [],
   "source": [
    "forestreg=RandomForestRegressor(n_estimators=100, max_depth=2)"
   ]
  },
  {
   "cell_type": "code",
   "execution_count": 134,
   "id": "88b5170d",
   "metadata": {},
   "outputs": [
    {
     "data": {
      "text/plain": [
       "RandomForestRegressor(max_depth=2)"
      ]
     },
     "execution_count": 134,
     "metadata": {},
     "output_type": "execute_result"
    }
   ],
   "source": [
    "forestreg.fit(X_train,y_train)"
   ]
  },
  {
   "cell_type": "code",
   "execution_count": 135,
   "id": "1bfc9b52",
   "metadata": {},
   "outputs": [],
   "source": [
    "y_pred=forestreg.predict(X_test)"
   ]
  },
  {
   "cell_type": "code",
   "execution_count": 136,
   "id": "04d50d3a",
   "metadata": {},
   "outputs": [
    {
     "name": "stdout",
     "output_type": "stream",
     "text": [
      "model score: 0.342\n"
     ]
    }
   ],
   "source": [
    "print(\"model score: %.3f\" % forestreg.score(X_test, y_test))"
   ]
  }
 ],
 "metadata": {
  "kernelspec": {
   "display_name": "Python 3 (ipykernel)",
   "language": "python",
   "name": "python3"
  },
  "language_info": {
   "codemirror_mode": {
    "name": "ipython",
    "version": 3
   },
   "file_extension": ".py",
   "mimetype": "text/x-python",
   "name": "python",
   "nbconvert_exporter": "python",
   "pygments_lexer": "ipython3",
   "version": "3.8.8"
  }
 },
 "nbformat": 4,
 "nbformat_minor": 5
}
