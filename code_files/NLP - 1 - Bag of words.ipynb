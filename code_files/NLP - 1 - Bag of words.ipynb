{
 "cells": [
  {
   "cell_type": "markdown",
   "id": "7392a769",
   "metadata": {},
   "source": [
    "## NLP - 1 - Bag of words"
   ]
  },
  {
   "cell_type": "code",
   "execution_count": 1,
   "id": "e53a66a2",
   "metadata": {
    "scrolled": true
   },
   "outputs": [],
   "source": [
    "import nltk\n",
    "import numpy as np\n",
    "from nltk.tokenize import word_tokenize\n",
    "from nltk.corpus import stopwords"
   ]
  },
  {
   "cell_type": "code",
   "execution_count": 2,
   "id": "cfd1d6e1",
   "metadata": {},
   "outputs": [],
   "source": [
    "stop_words = set(stopwords.words(\"english\"))"
   ]
  },
  {
   "cell_type": "code",
   "execution_count": 3,
   "id": "3b17b788",
   "metadata": {},
   "outputs": [],
   "source": [
    "def tokenized_text(sentence):\n",
    "    words = nltk.word_tokenize(sentence)\n",
    "    \n",
    "    cleaned_text = [w.lower() for w in words if w not in stop_words]\n",
    "    \n",
    "    return cleaned_text"
   ]
  },
  {
   "cell_type": "code",
   "execution_count": 4,
   "id": "80166b51",
   "metadata": {},
   "outputs": [],
   "source": [
    "def sorted_token(sentences):\n",
    "    \n",
    "    words = []\n",
    "    \n",
    "    for sentence in sentences:\n",
    "        \n",
    "        w = tokenized_text(sentence)\n",
    "        words.extend(w)\n",
    "        \n",
    "    words = sorted(list(set(words)))\n",
    "    return words"
   ]
  },
  {
   "cell_type": "code",
   "execution_count": 8,
   "id": "897d054c",
   "metadata": {},
   "outputs": [],
   "source": [
    "def bag_of_words(sentence, words):\n",
    "    \n",
    "    sentence_words = tokenized_text(sentence)\n",
    "    \n",
    "    # frequency word count\n",
    "    \n",
    "    bag = np.zeros(len(words))\n",
    "    \n",
    "    for sw in sentence_words:\n",
    "        for i, word in enumerate(words):\n",
    "            if word == sw:\n",
    "                bag[i] += 1\n",
    "    \n",
    "    return np.array(bag)"
   ]
  },
  {
   "cell_type": "code",
   "execution_count": 6,
   "id": "3a45d1d2",
   "metadata": {},
   "outputs": [],
   "source": [
    "corpus = [\"Joe went to the store\",\n",
    "         \"Joe wants to buy a dining set\",\n",
    "         \"Joe met John at the store\",\n",
    "         \"Joe and John are best friends\",\n",
    "         ]"
   ]
  },
  {
   "cell_type": "code",
   "execution_count": 7,
   "id": "e1c5284d",
   "metadata": {
    "scrolled": true
   },
   "outputs": [
    {
     "name": "stdout",
     "output_type": "stream",
     "text": [
      "['best', 'buy', 'dining', 'friends', 'joe', 'john', 'met', 'set', 'store', 'wants', 'went']\n"
     ]
    }
   ],
   "source": [
    "vocabulary = sorted_token(corpus)\n",
    "\n",
    "print(vocabulary)"
   ]
  },
  {
   "cell_type": "code",
   "execution_count": 12,
   "id": "a4a2c85e",
   "metadata": {},
   "outputs": [
    {
     "data": {
      "text/plain": [
       "array([0., 0., 0., 0., 1., 0., 0., 0., 1., 0., 1.])"
      ]
     },
     "execution_count": 12,
     "metadata": {},
     "output_type": "execute_result"
    }
   ],
   "source": [
    "bag_of_words(\"Joe went to the store\", vocabulary)"
   ]
  },
  {
   "cell_type": "code",
   "execution_count": 13,
   "id": "10202635",
   "metadata": {},
   "outputs": [
    {
     "data": {
      "text/plain": [
       "array([0., 1., 1., 0., 1., 0., 0., 1., 0., 1., 0.])"
      ]
     },
     "execution_count": 13,
     "metadata": {},
     "output_type": "execute_result"
    }
   ],
   "source": [
    "bag_of_words(\"Joe wants to buy a dining set\", vocabulary)"
   ]
  },
  {
   "cell_type": "code",
   "execution_count": 14,
   "id": "2be6274d",
   "metadata": {},
   "outputs": [
    {
     "data": {
      "text/plain": [
       "array([0., 0., 0., 0., 1., 1., 1., 0., 1., 0., 0.])"
      ]
     },
     "execution_count": 14,
     "metadata": {},
     "output_type": "execute_result"
    }
   ],
   "source": [
    "bag_of_words(\"Joe met John at the store\",vocabulary)"
   ]
  },
  {
   "cell_type": "code",
   "execution_count": 15,
   "id": "9e593de3",
   "metadata": {},
   "outputs": [
    {
     "data": {
      "text/plain": [
       "array([1., 0., 0., 1., 1., 1., 0., 0., 0., 0., 0.])"
      ]
     },
     "execution_count": 15,
     "metadata": {},
     "output_type": "execute_result"
    }
   ],
   "source": [
    "bag_of_words(\"Joe and John are best friends\",vocabulary)"
   ]
  }
 ],
 "metadata": {
  "kernelspec": {
   "display_name": "Python 3 (ipykernel)",
   "language": "python",
   "name": "python3"
  },
  "language_info": {
   "codemirror_mode": {
    "name": "ipython",
    "version": 3
   },
   "file_extension": ".py",
   "mimetype": "text/x-python",
   "name": "python",
   "nbconvert_exporter": "python",
   "pygments_lexer": "ipython3",
   "version": "3.8.8"
  }
 },
 "nbformat": 4,
 "nbformat_minor": 5
}
